{
 "cells": [
  {
   "cell_type": "code",
   "execution_count": 18,
   "metadata": {},
   "outputs": [],
   "source": [
    "import random\n",
    "from collections import defaultdict\n",
    "import requests"
   ]
  },
  {
   "cell_type": "code",
   "execution_count": null,
   "metadata": {},
   "outputs": [
    {
     "data": {
      "text/plain": [
       "1736637"
      ]
     },
     "execution_count": 14,
     "metadata": {},
     "output_type": "execute_result"
    }
   ],
   "source": [
    "wordlist_url = 'https://gist.githubusercontent.com/Konstantinusz/f9517357e46fa827c3736031ac8d01c7/raw/fc98429a6357d1c4fcc644e1b70c2431bd046cf0/magyar-szavak.txt'\n",
    "wordlist_download = requests.get(wordlist_url)\n",
    "with open('wordlist.txt', 'w') as f:\n",
    "    f.write(wordlist_download.text)\n",
    "print('Downloaded wordlist to wordlist.txt')\n",
    "\n",
    "len(wordlist_download.text)"
   ]
  },
  {
   "cell_type": "code",
   "execution_count": 31,
   "metadata": {},
   "outputs": [
    {
     "name": "stdout",
     "output_type": "stream",
     "text": [
      "Szóhosszok: 3, 4, 5, 6, 7, 8\n",
      "Szavak száma: 57197\n"
     ]
    }
   ],
   "source": [
    "wordlist = wordlist_download.text.split('\\n')\n",
    "\n",
    "wordlists = defaultdict(list)\n",
    "for word in wordlist:\n",
    "    if len(word) > 2 and len(word) < 9: # words between 3 and 8 characters\n",
    "        wordlists[len(word)].append(word)\n",
    "\n",
    "print(f'Szóhosszok: {\", \".join(map(str, sorted(wordlists.keys())))}')\n",
    "print(f'Szavak száma: {sum( [len(words) for words in wordlists.values()] )}')"
   ]
  },
  {
   "cell_type": "code",
   "execution_count": 28,
   "metadata": {},
   "outputs": [
    {
     "data": {
      "text/plain": [
       "'káró'"
      ]
     },
     "execution_count": 28,
     "metadata": {},
     "output_type": "execute_result"
    }
   ],
   "source": [
    "def get_random_word(length = None):\n",
    "    if length == None:\n",
    "        length = random.choice(list(wordlists.keys()))\n",
    "    elif length not in wordlists:\n",
    "        return None\n",
    "    return random.choice(wordlists[length])\n",
    "\n",
    "get_random_word()"
   ]
  }
 ],
 "metadata": {
  "kernelspec": {
   "display_name": ".venv",
   "language": "python",
   "name": "python3"
  },
  "language_info": {
   "codemirror_mode": {
    "name": "ipython",
    "version": 3
   },
   "file_extension": ".py",
   "mimetype": "text/x-python",
   "name": "python",
   "nbconvert_exporter": "python",
   "pygments_lexer": "ipython3",
   "version": "3.13.1"
  }
 },
 "nbformat": 4,
 "nbformat_minor": 2
}
